{
 "cells": [
  {
   "cell_type": "code",
   "execution_count": null,
   "id": "3445bc50-44fc-4606-93b5-f5452b58e7b2",
   "metadata": {},
   "outputs": [],
   "source": [
    "#import essential libraries\n",
    "import numpy as np\n",
    "import pandas as pd\n",
    "import matplotlib.pyplot as plt\n",
    "import warnings\n",
    "warnings.filterwarnings(\"ignore\")"
   ]
  },
  {
   "cell_type": "code",
   "execution_count": null,
   "id": "47076038-2953-4363-a38b-daaee42fc8a8",
   "metadata": {},
   "outputs": [],
   "source": [
    "#Acquire Dataset\n",
    "df=pd.read_csv('student_info.csv')\n",
    "df.head()"
   ]
  },
  {
   "cell_type": "code",
   "execution_count": null,
   "id": "e571c22e-b111-4c95-9807-cd5e2d9c9bd1",
   "metadata": {},
   "outputs": [],
   "source": [
    "df.shape"
   ]
  },
  {
   "cell_type": "code",
   "execution_count": null,
   "id": "9562799d-c782-4c9d-971b-526f1ddb56f9",
   "metadata": {},
   "outputs": [],
   "source": [
    "df.isnull().sum()  # isnull find where the missing values and sum find total missing values"
   ]
  },
  {
   "cell_type": "code",
   "execution_count": null,
   "id": "f2d9bbea-672f-4622-b254-1796d6056db8",
   "metadata": {},
   "outputs": [],
   "source": [
    "#Handle Missing value\n",
    "df.mean"
   ]
  },
  {
   "cell_type": "code",
   "execution_count": null,
   "id": "fca2f28c-61b7-437f-bbe6-25a0882d6d75",
   "metadata": {},
   "outputs": [],
   "source": [
    "df2=df.fillna(df.mean())\n",
    "df2.head()"
   ]
  },
  {
   "cell_type": "code",
   "execution_count": null,
   "id": "6bc4114e-59e2-420b-9aea-bef18527c2db",
   "metadata": {},
   "outputs": [],
   "source": [
    "df2.isnull().sum()"
   ]
  },
  {
   "cell_type": "code",
   "execution_count": null,
   "id": "1ea6da5b-5852-4cf2-b5ff-bc6eed2850d1",
   "metadata": {},
   "outputs": [],
   "source": [
    "#Data Visualization\n",
    "plt.scatter(x=df2.study_hours,y=df2.student_marks)\n",
    "plt.title(\"Student Marks Predictor\")\n",
    "plt.xlabel(\"Study Hours\")\n",
    "plt.ylabel(\"Student marks\")\n",
    "plt.show()"
   ]
  },
  {
   "cell_type": "code",
   "execution_count": null,
   "id": "fe244854-3070-4345-bcab-46f8a255c540",
   "metadata": {},
   "outputs": [],
   "source": [
    "#Separate Dataset in Independent and Dependent Variables\n",
    "X=df2.drop(\"student_marks\",axis=\"columns\")\n",
    "X.head()"
   ]
  },
  {
   "cell_type": "code",
   "execution_count": null,
   "id": "b796f2c0-dde8-4fb9-9731-44ff731ac6e5",
   "metadata": {},
   "outputs": [],
   "source": [
    "y=df2.drop(\"study_hours\",axis=\"columns\")\n",
    "y.head()"
   ]
  },
  {
   "cell_type": "code",
   "execution_count": null,
   "id": "3a7c0b0b-ec53-4489-b328-2248d7654794",
   "metadata": {},
   "outputs": [],
   "source": [
    "#Train Test Split\n",
    "from sklearn.model_selection import train_test_split\n",
    "X_train, X_test, y_train, y_test = train_test_split(X,y,test_size=0.25,random_state=0)"
   ]
  },
  {
   "cell_type": "code",
   "execution_count": null,
   "id": "5aa2aba8-b26d-4b26-9f27-a86c00fdbf1b",
   "metadata": {},
   "outputs": [],
   "source": [
    "X_train.shape"
   ]
  },
  {
   "cell_type": "code",
   "execution_count": null,
   "id": "f82b74cd-8949-4234-b480-c6882f8bb8bb",
   "metadata": {},
   "outputs": [],
   "source": [
    "X_test.shape"
   ]
  },
  {
   "cell_type": "code",
   "execution_count": null,
   "id": "3a007c7d-8dd4-4545-b41a-2bdde7ddf6ea",
   "metadata": {},
   "outputs": [],
   "source": [
    "y_train.shape"
   ]
  },
  {
   "cell_type": "code",
   "execution_count": null,
   "id": "74e63390-cd5e-4a7e-a2b0-ed5f8e01a7cc",
   "metadata": {},
   "outputs": [],
   "source": [
    "y_test.shape"
   ]
  },
  {
   "cell_type": "code",
   "execution_count": null,
   "id": "03cfc4ce-be8e-40f0-8ca1-0a2845716ca9",
   "metadata": {},
   "outputs": [],
   "source": [
    "#Apply Linear Regression algorithm\n",
    "from sklearn.linear_model import LinearRegression\n",
    "lr=LinearRegression()\n",
    "lr.fit(X_train,y_train)     #X_train(input) and y_train(output)"
   ]
  },
  {
   "cell_type": "code",
   "execution_count": null,
   "id": "467cbee5-3072-4181-95b9-ba9a9dcf1b24",
   "metadata": {},
   "outputs": [],
   "source": [
    "#Test the model\n",
    "res=lr.predict([[8.0]])[0][0].round(2)  #[0][0] help to remove the array \n",
    "print(\"Obtained Marks=\",res)"
   ]
  },
  {
   "cell_type": "code",
   "execution_count": null,
   "id": "b2ce27a9-095c-4119-8443-b9f74db4da45",
   "metadata": {},
   "outputs": [],
   "source": [
    "# Create .pkl file\n",
    "import pickle\n",
    "pickle.dump(lr,open(\"smp.pkl\",\"wb\"))\n",
    "print(\"Pickle file is created successfully\")"
   ]
  },
  {
   "cell_type": "code",
   "execution_count": null,
   "id": "25cb50c6-7f78-4234-b9a2-cd0e54480663",
   "metadata": {},
   "outputs": [],
   "source": []
  },
  {
   "cell_type": "code",
   "execution_count": null,
   "id": "2f1d3cc4-a3e6-4e9f-9e3b-8fbfd0010d3f",
   "metadata": {},
   "outputs": [],
   "source": []
  }
 ],
 "metadata": {
  "kernelspec": {
   "display_name": "Python 3 (ipykernel)",
   "language": "python",
   "name": "python3"
  },
  "language_info": {
   "codemirror_mode": {
    "name": "ipython",
    "version": 3
   },
   "file_extension": ".py",
   "mimetype": "text/x-python",
   "name": "python",
   "nbconvert_exporter": "python",
   "pygments_lexer": "ipython3",
   "version": "3.10.11"
  }
 },
 "nbformat": 4,
 "nbformat_minor": 5
}
